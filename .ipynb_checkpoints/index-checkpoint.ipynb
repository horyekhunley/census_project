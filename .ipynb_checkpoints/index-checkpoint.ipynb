{
 "cells": [
  {
   "cell_type": "code",
   "execution_count": 1,
   "metadata": {},
   "outputs": [],
   "source": [
    "import pandas as pd\n",
    "import numpy as np\n",
    "import matplotlib.pyplot as plt\n",
    "import seaborn as sns"
   ]
  },
  {
   "cell_type": "code",
   "execution_count": 2,
   "metadata": {},
   "outputs": [],
   "source": [
    "data = pd.read_csv('census02.csv')"
   ]
  },
  {
   "cell_type": "code",
   "execution_count": 3,
   "metadata": {},
   "outputs": [
    {
     "data": {
      "text/html": [
       "<div>\n",
       "<style scoped>\n",
       "    .dataframe tbody tr th:only-of-type {\n",
       "        vertical-align: middle;\n",
       "    }\n",
       "\n",
       "    .dataframe tbody tr th {\n",
       "        vertical-align: top;\n",
       "    }\n",
       "\n",
       "    .dataframe thead th {\n",
       "        text-align: right;\n",
       "    }\n",
       "</style>\n",
       "<table border=\"1\" class=\"dataframe\">\n",
       "  <thead>\n",
       "    <tr style=\"text-align: right;\">\n",
       "      <th></th>\n",
       "      <th>House Number</th>\n",
       "      <th>Street</th>\n",
       "      <th>First Name</th>\n",
       "      <th>Surname</th>\n",
       "      <th>Age</th>\n",
       "      <th>Relationship to Head of House</th>\n",
       "      <th>Marital Status</th>\n",
       "      <th>Gender</th>\n",
       "      <th>Occupation</th>\n",
       "      <th>Infirmity</th>\n",
       "      <th>Religion</th>\n",
       "    </tr>\n",
       "  </thead>\n",
       "  <tbody>\n",
       "    <tr>\n",
       "      <th>0</th>\n",
       "      <td>1</td>\n",
       "      <td>Kaur Drive</td>\n",
       "      <td>Douglas</td>\n",
       "      <td>Adams</td>\n",
       "      <td>77.0</td>\n",
       "      <td>Head</td>\n",
       "      <td>Widowed</td>\n",
       "      <td>Male</td>\n",
       "      <td>Retired Museum education officer</td>\n",
       "      <td>NaN</td>\n",
       "      <td>Christian</td>\n",
       "    </tr>\n",
       "    <tr>\n",
       "      <th>1</th>\n",
       "      <td>2</td>\n",
       "      <td>Kaur Drive</td>\n",
       "      <td>Hollie</td>\n",
       "      <td>West</td>\n",
       "      <td>79.0</td>\n",
       "      <td>Head</td>\n",
       "      <td>Single</td>\n",
       "      <td>Female</td>\n",
       "      <td>Retired Dealer</td>\n",
       "      <td>NaN</td>\n",
       "      <td>Christian</td>\n",
       "    </tr>\n",
       "    <tr>\n",
       "      <th>2</th>\n",
       "      <td>3</td>\n",
       "      <td>Kaur Drive</td>\n",
       "      <td>Joseph</td>\n",
       "      <td>Hall</td>\n",
       "      <td>55.0</td>\n",
       "      <td>Head</td>\n",
       "      <td>Single</td>\n",
       "      <td>Male</td>\n",
       "      <td>Fast food restaurant manager</td>\n",
       "      <td>NaN</td>\n",
       "      <td>Christian</td>\n",
       "    </tr>\n",
       "    <tr>\n",
       "      <th>3</th>\n",
       "      <td>4</td>\n",
       "      <td>Kaur Drive</td>\n",
       "      <td>Gregory</td>\n",
       "      <td>Cox</td>\n",
       "      <td>35.0</td>\n",
       "      <td>Head</td>\n",
       "      <td>Single</td>\n",
       "      <td>Male</td>\n",
       "      <td>Housing manager/officer</td>\n",
       "      <td>NaN</td>\n",
       "      <td>NaN</td>\n",
       "    </tr>\n",
       "    <tr>\n",
       "      <th>4</th>\n",
       "      <td>5</td>\n",
       "      <td>Kaur Drive</td>\n",
       "      <td>Lydia</td>\n",
       "      <td>Jones</td>\n",
       "      <td>42.0</td>\n",
       "      <td>Head</td>\n",
       "      <td>Single</td>\n",
       "      <td>Female</td>\n",
       "      <td>Unemployed</td>\n",
       "      <td>NaN</td>\n",
       "      <td>Catholic</td>\n",
       "    </tr>\n",
       "  </tbody>\n",
       "</table>\n",
       "</div>"
      ],
      "text/plain": [
       "   House Number      Street First Name Surname   Age  \\\n",
       "0             1  Kaur Drive    Douglas   Adams  77.0   \n",
       "1             2  Kaur Drive     Hollie    West  79.0   \n",
       "2             3  Kaur Drive     Joseph    Hall  55.0   \n",
       "3             4  Kaur Drive    Gregory     Cox  35.0   \n",
       "4             5  Kaur Drive      Lydia   Jones  42.0   \n",
       "\n",
       "  Relationship to Head of House Marital Status  Gender  \\\n",
       "0                          Head        Widowed    Male   \n",
       "1                          Head         Single  Female   \n",
       "2                          Head         Single    Male   \n",
       "3                          Head         Single    Male   \n",
       "4                          Head         Single  Female   \n",
       "\n",
       "                         Occupation Infirmity   Religion  \n",
       "0  Retired Museum education officer       NaN  Christian  \n",
       "1                    Retired Dealer       NaN  Christian  \n",
       "2      Fast food restaurant manager       NaN  Christian  \n",
       "3           Housing manager/officer       NaN        NaN  \n",
       "4                        Unemployed       NaN   Catholic  "
      ]
     },
     "execution_count": 3,
     "metadata": {},
     "output_type": "execute_result"
    }
   ],
   "source": [
    "data.head()"
   ]
  },
  {
   "cell_type": "code",
   "execution_count": 5,
   "metadata": {},
   "outputs": [
    {
     "name": "stdout",
     "output_type": "stream",
     "text": [
      "<class 'pandas.core.frame.DataFrame'>\n",
      "RangeIndex: 10118 entries, 0 to 10117\n",
      "Data columns (total 11 columns):\n",
      " #   Column                         Non-Null Count  Dtype  \n",
      "---  ------                         --------------  -----  \n",
      " 0   House Number                   10118 non-null  int64  \n",
      " 1   Street                         10118 non-null  object \n",
      " 2   First Name                     10118 non-null  object \n",
      " 3   Surname                        10118 non-null  object \n",
      " 4   Age                            10118 non-null  float64\n",
      " 5   Relationship to Head of House  9356 non-null   object \n",
      " 6   Marital Status                 7634 non-null   object \n",
      " 7   Gender                         10118 non-null  object \n",
      " 8   Occupation                     10118 non-null  object \n",
      " 9   Infirmity                      84 non-null     object \n",
      " 10  Religion                       4123 non-null   object \n",
      "dtypes: float64(1), int64(1), object(9)\n",
      "memory usage: 869.6+ KB\n"
     ]
    }
   ],
   "source": [
    "data.info()"
   ]
  },
  {
   "cell_type": "code",
   "execution_count": 6,
   "metadata": {},
   "outputs": [
    {
     "data": {
      "text/plain": [
       "House Number                         0\n",
       "Street                               0\n",
       "First Name                           0\n",
       "Surname                              0\n",
       "Age                                  0\n",
       "Relationship to Head of House      762\n",
       "Marital Status                    2484\n",
       "Gender                               0\n",
       "Occupation                           0\n",
       "Infirmity                        10034\n",
       "Religion                          5995\n",
       "dtype: int64"
      ]
     },
     "execution_count": 6,
     "metadata": {},
     "output_type": "execute_result"
    }
   ],
   "source": [
    "data.isnull().sum()"
   ]
  },
  {
   "cell_type": "code",
   "execution_count": 7,
   "metadata": {},
   "outputs": [],
   "source": [
    "# for people with missing values in the 'Marital Status' column, we will fill the missing values with 'Underage' for people under 18\n",
    "\n",
    "data.loc[(data['Marital Status'].isnull()) & (data['Age'] < 18), 'Marital Status'] = 'Underage'"
   ]
  },
  {
   "cell_type": "code",
   "execution_count": 11,
   "metadata": {},
   "outputs": [
    {
     "data": {
      "text/plain": [
       "0"
      ]
     },
     "execution_count": 11,
     "metadata": {},
     "output_type": "execute_result"
    }
   ],
   "source": [
    "data['Marital Status'].isnull().sum()"
   ]
  },
  {
   "cell_type": "code",
   "execution_count": 12,
   "metadata": {},
   "outputs": [
    {
     "data": {
      "text/plain": [
       "House Number                         0\n",
       "Street                               0\n",
       "First Name                           0\n",
       "Surname                              0\n",
       "Age                                  0\n",
       "Relationship to Head of House      762\n",
       "Marital Status                       0\n",
       "Gender                               0\n",
       "Occupation                           0\n",
       "Infirmity                        10034\n",
       "Religion                          5995\n",
       "dtype: int64"
      ]
     },
     "execution_count": 12,
     "metadata": {},
     "output_type": "execute_result"
    }
   ],
   "source": [
    "data.isnull().sum()"
   ]
  },
  {
   "cell_type": "code",
   "execution_count": null,
   "metadata": {},
   "outputs": [],
   "source": []
  }
 ],
 "metadata": {
  "kernelspec": {
   "display_name": "base",
   "language": "python",
   "name": "python3"
  },
  "language_info": {
   "codemirror_mode": {
    "name": "ipython",
    "version": 3
   },
   "file_extension": ".py",
   "mimetype": "text/x-python",
   "name": "python",
   "nbconvert_exporter": "python",
   "pygments_lexer": "ipython3",
   "version": "3.11.5"
  }
 },
 "nbformat": 4,
 "nbformat_minor": 2
}
